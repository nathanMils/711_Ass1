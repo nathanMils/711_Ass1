{
 "cells": [
  {
   "cell_type": "markdown",
   "id": "53ed1c0c-db1b-4083-851d-4630feb4eac1",
   "metadata": {},
   "source": [
    "# Data Preparation\n",
    "***\n",
    "## Data Collection\n",
    "***"
   ]
  },
  {
   "cell_type": "code",
   "execution_count": 1,
   "id": "ea438307",
   "metadata": {},
   "outputs": [],
   "source": [
    "import pandas as pd\n",
    "import numpy as np"
   ]
  },
  {
   "cell_type": "code",
   "execution_count": 2,
   "id": "eb5b91ef-324a-449c-af88-0e5537fbaabd",
   "metadata": {},
   "outputs": [],
   "source": [
    "# Load RawData\n",
    "rawData = pd.read_csv(\"../Data/Almond.csv\")"
   ]
  },
  {
   "cell_type": "markdown",
   "id": "8d6b68f9-c3bb-4885-8b67-17105c3046f6",
   "metadata": {},
   "source": [
    "***\n",
    "## Data Exploration\n",
    "***"
   ]
  },
  {
   "cell_type": "code",
   "execution_count": 3,
   "id": "e6cbb568-1c6a-4a4b-ba94-9100e990a065",
   "metadata": {},
   "outputs": [
    {
     "name": "stdout",
     "output_type": "stream",
     "text": [
      "Total number of rows: 2803\n",
      "Percentage of missing Length: 30.574384587941488 %\n",
      "Percentage of missing Width: 33.606849803781664 %\n",
      "Percentage of missing Thickness: 35.81876560827685 %\n",
      "Outliers in 'Length':\n",
      "        Id  Length (major axis)  Width (minor axis)  Thickness (depth)  \\\n",
      "1019  1019           460.908081          236.788956                NaN   \n",
      "1063  1063           469.993317          256.381378                NaN   \n",
      "1064  1064           457.453674          253.380829                NaN   \n",
      "1181  1181           512.625305          196.665649                NaN   \n",
      "1182  1182           515.352478          198.328033                NaN   \n",
      "1183  1183           499.412140          194.025864                NaN   \n",
      "1184  1184           458.892334          185.880981                NaN   \n",
      "1217  1217           466.678650                 NaN         111.687790   \n",
      "1218  1218           477.257385                 NaN         107.354698   \n",
      "1219  1219           464.381012                 NaN         107.226830   \n",
      "1220  1220           475.834717                 NaN         109.002869   \n",
      "1233  1233           468.432892          181.576462                NaN   \n",
      "1234  1234           494.121033          180.913788                NaN   \n",
      "1237  1237           481.235687                 NaN         114.394958   \n",
      "1238  1238           497.457306                 NaN         116.426300   \n",
      "1239  1239           506.372406                 NaN         118.037170   \n",
      "\n",
      "         Area    Perimeter  Roundness  Solidity  Compactness  Aspect Ratio  \\\n",
      "1019  81813.0  1534.312830   0.490347  0.927911     2.289790      1.946493   \n",
      "1063  89282.0  1237.033612   0.514625  0.984990     1.363921      1.833180   \n",
      "1064  86040.0  1211.234623   0.523500  0.986759     1.356895      1.805400   \n",
      "1181  56800.5  1176.541191   0.275209  0.977928     1.939332      2.606583   \n",
      "1182  57555.0  1160.298551   0.275921  0.981882     1.861429      2.598485   \n",
      "1183  56644.5  1189.653889   0.289168  0.975855     1.988262      2.573946   \n",
      "1184  54373.0  1125.411249   0.328755  0.965738     1.853657      2.468743   \n",
      "1217  39126.0  1439.778779   0.228739  0.889146     4.216152           NaN   \n",
      "1218  38183.5  1327.737149   0.213442  0.887173     3.673995           NaN   \n",
      "1219  37852.5  1297.737149   0.223489  0.892116     3.540536           NaN   \n",
      "1220  38666.0  1380.121925   0.217434  0.895316     3.920088           NaN   \n",
      "1233  41085.5   857.002088   0.238399  0.975277     1.422543      2.579811   \n",
      "1234  40996.0   866.558436   0.213789  0.974460     1.457620      2.731251   \n",
      "1237  37257.0  1126.038665   0.204834  0.965295     2.708251           NaN   \n",
      "1238  37861.5  1126.825462   0.194803  0.958992     2.668736           NaN   \n",
      "1239  37890.5  1074.198045   0.188148  0.952525     2.423419           NaN   \n",
      "\n",
      "      Eccentricity    Extent  Convex hull(convex area)   Type  \n",
      "1019      0.857943  0.692228                   88169.0  MAMRA  \n",
      "1063      0.838111  0.751052                   90642.5  MAMRA  \n",
      "1064      0.832587  0.757434                   87194.5  MAMRA  \n",
      "1181      0.923481  0.805452                   58082.5  MAMRA  \n",
      "1182      0.922983  0.807495                   58617.0  MAMRA  \n",
      "1183      0.921445  0.812142                   58046.0  MAMRA  \n",
      "1184      0.914288  0.809122                   56302.0  MAMRA  \n",
      "1217           NaN  0.693477                   44004.0  MAMRA  \n",
      "1218           NaN  0.688326                   43039.5  MAMRA  \n",
      "1219           NaN  0.670906                   42430.0  MAMRA  \n",
      "1220           NaN  0.680428                   43187.0  MAMRA  \n",
      "1233      0.921817  0.740493                   42127.0  MAMRA  \n",
      "1234      0.930563  0.740120                   42070.5  MAMRA  \n",
      "1237           NaN  0.691789                   38596.5  MAMRA  \n",
      "1238           NaN  0.696303                   39480.5  MAMRA  \n",
      "1239           NaN  0.691042                   39779.0  MAMRA  \n",
      "Number of redundant rows: 0\n",
      "Correlation Matrix:                      Length (major axis)  Width (minor axis)  \\\n",
      "Length (major axis)             1.000000            0.837034   \n",
      "Width (minor axis)              0.837034            1.000000   \n",
      "Thickness (depth)               0.457854            0.594621   \n",
      "Area                            0.759006            0.474224   \n",
      "\n",
      "                     Thickness (depth)      Area  \n",
      "Length (major axis)           0.457854  0.759006  \n",
      "Width (minor axis)            0.594621  0.474224  \n",
      "Thickness (depth)             1.000000  0.649638  \n",
      "Area                          0.649638  1.000000  \n"
     ]
    }
   ],
   "source": [
    "total_rows = rawData.shape[0]\n",
    "print(f\"Total number of rows: {total_rows}\")\n",
    "missingL = rawData['Length (major axis)'].isnull().sum()\n",
    "print(f\"Percentage of missing Length: {(missingL/total_rows)*100} %\")\n",
    "missingW = rawData['Width (minor axis)'].isnull().sum()\n",
    "print(f\"Percentage of missing Width: {(missingW/total_rows)*100} %\")\n",
    "missingT = rawData['Thickness (depth)'].isnull().sum()\n",
    "print(f\"Percentage of missing Thickness: {(missingT/total_rows)*100} %\")\n",
    "\n",
    "def detect_outliers_iqr(df, column):\n",
    "    Q1 = df[column].quantile(0.25)\n",
    "    Q3 = df[column].quantile(0.75)\n",
    "    IQR = Q3 - Q1\n",
    "    lower_bound = Q1 - 1.5 * IQR\n",
    "    upper_bound = Q3 + 1.5 * IQR\n",
    "    # Return rows that are outliers\n",
    "    return df[(df[column] < lower_bound) | (df[column] > upper_bound)]\n",
    "\n",
    "# Example: Detect outliers for the 'Length' column\n",
    "outliers_length = detect_outliers_iqr(rawData, 'Length (major axis)')\n",
    "print(f\"Outliers in 'Length':\\n{outliers_length}\")\n",
    "\n",
    "# Check for duplicate rows\n",
    "duplicates = rawData.duplicated()\n",
    "\n",
    "num_duplicates = duplicates.sum()\n",
    "\n",
    "print(f\"Number of redundant rows: {num_duplicates}\")\n",
    "correlation_matrix = rawData[['Length (major axis)','Width (minor axis)','Thickness (depth)','Area']].corr()\n",
    "\n",
    "print(f\"Correlation Matrix: {correlation_matrix}\")"
   ]
  },
  {
   "cell_type": "markdown",
   "id": "a6796a3a-9bb5-4354-8736-d9917c92f5f6",
   "metadata": {},
   "source": [
    "***\n",
    "## Outliers\n",
    "***"
   ]
  },
  {
   "cell_type": "code",
   "execution_count": 4,
   "id": "0beeef31-d97c-46e2-9123-62bb5af1f4a1",
   "metadata": {},
   "outputs": [],
   "source": [
    "import matplotlib.pyplot as plt\n",
    "import seaborn as sns"
   ]
  },
  {
   "cell_type": "code",
   "execution_count": 5,
   "id": "63e8f321-6f12-4337-bf4e-28db22f385b6",
   "metadata": {},
   "outputs": [
    {
     "data": {
      "image/png": "[encoded data removed]",
      "text/plain": [
       "<Figure size 1000x600 with 1 Axes>"
      ]
     },
     "metadata": {},
     "output_type": "display_data"
    }
   ],
   "source": [
    "plt.figure(figsize=(10, 6))\n",
    "plotdata = rawData.dropna(subset=['Length (major axis)'])\n",
    "sns.boxplot(x=plotdata['Length (major axis)'])\n",
    "plt.title('Box Plot of Length (major axis) Before Removing Outliers')\n",
    "plt.show()"
   ]
  },
  {
   "cell_type": "code",
   "execution_count": 6,
   "id": "1a902633-d7ad-45d7-9823-4e3e7be6f9db",
   "metadata": {},
   "outputs": [],
   "source": [
    "def remove_outliers(df, column):\n",
    "    Q1 = df[column].quantile(0.25)\n",
    "    Q3 = df[column].quantile(0.75)\n",
    "    IQR = Q3 - Q1\n",
    "    lower_bound = Q1 - 1.5 * IQR\n",
    "    upper_bound = Q3 + 1.5 * IQR\n",
    "    mask = ((df[column] >= lower_bound) & (df[column] <= upper_bound)) | df[column].isna()\n",
    "    \n",
    "    # Return the dataframe with outliers removed but NaN values preserved\n",
    "    return df[mask]"
   ]
  },
  {
   "cell_type": "code",
   "execution_count": 7,
   "id": "7abfa5e9-1551-4567-900e-a0f8808a9f6f",
   "metadata": {},
   "outputs": [],
   "source": [
    "numerical_columns = ['Length (major axis)', 'Width (minor axis)', 'Thickness (depth)', 'Area', 'Perimeter', 'Roundness', 'Solidity', 'Compactness', 'Aspect Ratio', 'Eccentricity', 'Extent', 'Convex hull(convex area)']\n",
    "rawData_no_outliers = rawData[['Length (major axis)', 'Width (minor axis)', 'Thickness (depth)', 'Area', 'Perimeter', 'Roundness', 'Solidity', 'Compactness', 'Aspect Ratio', 'Eccentricity', 'Extent', 'Convex hull(convex area)', 'Type']].copy()\n",
    "for column in numerical_columns:\n",
    "    rawData_no_outliers = remove_outliers(rawData_no_outliers, column)"
   ]
  },
  {
   "cell_type": "markdown",
   "id": "b3e7a769-ee36-4e38-bf88-2e034b6cbb2c",
   "metadata": {},
   "source": [
    "***\n",
    "## Imputation\n",
    "***"
   ]
  },
  {
   "cell_type": "code",
   "execution_count": 8,
   "id": "7941c62d-ee2e-4a8f-adaa-df78165d7531",
   "metadata": {},
   "outputs": [],
   "source": [
    "# Retrieve Length, Width and Thickness for imputation\n",
    "# Aswell as Area\n",
    "# rawData_no_outliers.reset_index(drop=True, inplace=True)\n",
    "p_LWTA = rawData[['Length (major axis)','Width (minor axis)','Thickness (depth)','Area']].copy()\n",
    "# Set Area to NaN where length is NaN\n",
    "p_LWTA['Area'] = np.where(p_LWTA['Length (major axis)'].notna(),\n",
    "                          p_LWTA['Area'],\n",
    "                          np.nan)"
   ]
  },
  {
   "cell_type": "code",
   "execution_count": 9,
   "id": "7d604b9d-c98d-4c03-a656-1f82ae6671d1",
   "metadata": {},
   "outputs": [],
   "source": [
    "# Import Sklearn libraries\n",
    "from sklearn.experimental import enable_iterative_imputer\n",
    "from sklearn.impute import IterativeImputer\n",
    "from sklearn.preprocessing import LabelEncoder\n",
    "from sklearn.model_selection import train_test_split\n",
    "from sklearn.utils import shuffle"
   ]
  },
  {
   "cell_type": "code",
   "execution_count": 10,
   "id": "ae736f6c-d92c-4ee5-8a6a-6ee600a00b16",
   "metadata": {},
   "outputs": [],
   "source": [
    "# Use iterative imputation using sklearn\n",
    "imputer = IterativeImputer(max_iter=10, random_state=0)\n",
    "d_LWTA_imputed = pd.DataFrame(imputer.fit_transform(p_LWTA), columns=p_LWTA.columns)"
   ]
  },
  {
   "cell_type": "code",
   "execution_count": 11,
   "id": "d14504d4-9464-46ff-8a25-b00c1dd695e3",
   "metadata": {},
   "outputs": [],
   "source": [
    "# Calculate Roundness using the imputed Area when there is length\n",
    "d_LWTA_imputed['Roundness'] = 4 * d_LWTA_imputed['Area'] / (np.pi * d_LWTA_imputed['Length (major axis)']**2)"
   ]
  },
  {
   "cell_type": "code",
   "execution_count": 12,
   "id": "95088790-5336-4179-8ca4-55f0aae35510",
   "metadata": {},
   "outputs": [],
   "source": [
    "# Remove irrelavent features\n",
    "p_proc = rawData.drop(columns=['Id']).copy()\n",
    "p_proc[['Length (major axis)','Width (minor axis)','Thickness (depth)','Roundness']] = d_LWTA_imputed[['Length (major axis)','Width (minor axis)','Thickness (depth)','Roundness']]\n",
    "p_proc['Aspect Ratio'] = p_proc['Length (major axis)']/p_proc['Width (minor axis)']\n",
    "p_proc['Eccentricity'] = (1 - (p_proc['Width (minor axis)']/p_proc['Length (major axis)'])**2) ** 0.5"
   ]
  },
  {
   "cell_type": "markdown",
   "id": "b0ea7e29-ac0c-4240-9647-ee6452036f3d",
   "metadata": {},
   "source": [
    "***\n",
    "## Handling Potential Bias\n",
    "***"
   ]
  },
  {
   "cell_type": "code",
   "execution_count": 13,
   "id": "0e3b49bc-a747-4fcf-966a-a05cfd74914f",
   "metadata": {},
   "outputs": [],
   "source": [
    "from imblearn.under_sampling import RandomUnderSampler"
   ]
  },
  {
   "cell_type": "code",
   "execution_count": 14,
   "id": "92b34b71-2eef-408c-8499-95698765cd8d",
   "metadata": {},
   "outputs": [],
   "source": [
    "X = p_proc[['Length (major axis)', 'Width (minor axis)', 'Thickness (depth)', 'Area', 'Perimeter', 'Roundness', 'Solidity', 'Compactness', 'Aspect Ratio', 'Eccentricity', 'Extent', 'Convex hull(convex area)']]\n",
    "Y = p_proc['Type']\n",
    "\n",
    "rus = RandomUnderSampler(random_state=42)\n",
    "X_resampled, y_resampled = rus.fit_resample(X, Y)\n",
    "\n",
    "X_resampled = pd.DataFrame(X_resampled, columns=X.columns)\n",
    "y_resampled = pd.Series(y_resampled, name='Type')"
   ]
  },
  {
   "cell_type": "code",
   "execution_count": 15,
   "id": "482acee4-d387-488a-9bb8-b3dfd610fbe9",
   "metadata": {},
   "outputs": [
    {
     "name": "stdout",
     "output_type": "stream",
     "text": [
      "(2781, 12)\n",
      "(2781,)\n"
     ]
    }
   ],
   "source": [
    "print(X_resampled.shape)\n",
    "print(y_resampled.shape)"
   ]
  },
  {
   "cell_type": "markdown",
   "id": "9d86ce21-5679-4f52-9156-a2e7e0490489",
   "metadata": {},
   "source": [
    "***\n",
    "## Data Split\n",
    "***"
   ]
  },
  {
   "cell_type": "code",
   "execution_count": 16,
   "id": "6cb531e2-5aec-445c-846e-5235a02a1f79",
   "metadata": {},
   "outputs": [],
   "source": [
    "# Import libraries for NN\n",
    "# Pretty sure this shit is just magic\n",
    "import torch\n",
    "from sklearn.preprocessing import LabelEncoder"
   ]
  },
  {
   "cell_type": "code",
   "execution_count": 17,
   "id": "442fc264-14b6-4aae-93a4-9217431baca1",
   "metadata": {},
   "outputs": [],
   "source": [
    "X_resampled.reset_index(drop=True, inplace=True)\n",
    "y_resampled.reset_index(drop=True, inplace=True)"
   ]
  },
  {
   "cell_type": "code",
   "execution_count": 18,
   "id": "7002215c-64cf-458b-8db7-d78adab3f211",
   "metadata": {},
   "outputs": [],
   "source": [
    "# Label encoding (Not Really?)\n",
    "label_encoder = LabelEncoder()"
   ]
  },
  {
   "cell_type": "code",
   "execution_count": 19,
   "id": "d1cc5837-ed14-43e0-8d3c-047396822fc8",
   "metadata": {},
   "outputs": [],
   "source": [
    "# X,Y -> X_tensor,Y_tensor\n",
    "X_tensor = torch.tensor(X_resampled.values, dtype=torch.float32)\n",
    "y_tensor = torch.tensor(label_encoder.fit_transform(y_resampled), dtype=torch.long)"
   ]
  },
  {
   "cell_type": "code",
   "execution_count": 20,
   "id": "6393f26f-3bc4-4ea4-8473-75f2a5e72300",
   "metadata": {},
   "outputs": [
    {
     "name": "stdout",
     "output_type": "stream",
     "text": [
      "Training set class distribution:\n",
      " 0    0.333505\n",
      "2    0.333505\n",
      "1    0.332991\n",
      "Name: proportion, dtype: float64\n",
      "Validation set class distribution:\n",
      " 1    0.333333\n",
      "0    0.333333\n",
      "2    0.333333\n",
      "Name: proportion, dtype: float64\n",
      "Testing set class distribution:\n",
      " 1    0.334928\n",
      "2    0.332536\n",
      "0    0.332536\n",
      "Name: proportion, dtype: float64\n"
     ]
    }
   ],
   "source": [
    "# Splitting Dataset into training, validation, and testing sets\n",
    "# Train + (Val | Test)\n",
    "X_train, X_temp, y_train, y_temp = train_test_split(\n",
    "    X_tensor, \n",
    "    y_tensor, \n",
    "    test_size=0.3, \n",
    "    stratify=y_tensor, \n",
    "    random_state=21\n",
    ")\n",
    "\n",
    "# Val + Test\n",
    "X_val, X_test, y_val, y_test = train_test_split(\n",
    "    X_temp, \n",
    "    y_temp, \n",
    "    test_size=0.5, \n",
    "    stratify=y_temp, \n",
    "    random_state=69\n",
    ")\n",
    "\n",
    "# Check the distribution of classes in each set\n",
    "print(\"Training set class distribution:\\n\", pd.Series(y_train).value_counts(normalize=True))\n",
    "print(\"Validation set class distribution:\\n\", pd.Series(y_val).value_counts(normalize=True))\n",
    "print(\"Testing set class distribution:\\n\", pd.Series(y_test).value_counts(normalize=True))\n"
   ]
  },
  {
   "cell_type": "code",
   "execution_count": 21,
   "id": "255cad05-0c05-4c67-940b-64ed6f5b958c",
   "metadata": {},
   "outputs": [],
   "source": [
    "# Apply training data transformation across all three sets for consistency\n",
    "mean = X_train.mean(dim=0)\n",
    "std = X_train.std(dim=0)\n",
    "\n",
    "X_train_norm = (X_train - mean)/std\n",
    "X_val_norm = (X_val - mean)/std\n",
    "X_test_norm = (X_test - mean)/std\n"
   ]
  },
  {
   "cell_type": "markdown",
   "id": "3345a396-61ff-4f0d-9cf5-45b0645160f3",
   "metadata": {},
   "source": [
    "Outputs:\n",
    "- X_train_norm : y_train\n",
    "- X_val_norm   : y_val\n",
    "- X_test_norm  : y_test\n",
    "- y_train\n",
    "- y_val\n",
    "- y_test\n",
    "***"
   ]
  },
  {
   "cell_type": "markdown",
   "id": "7aed260b-6865-42ec-a433-79af59a2e68a",
   "metadata": {},
   "source": [
    "***\n",
    "## Neural Network Definitions\n",
    "***"
   ]
  },
  {
   "cell_type": "code",
   "execution_count": 22,
   "id": "0f341dfc-e6c3-49ea-bace-7e780faadf02",
   "metadata": {},
   "outputs": [],
   "source": [
    "import torch.nn as nn\n",
    "import torch.optim as optim\n",
    "import torch.nn.functional as Func\n",
    "import torch.nn.init as init"
   ]
  },
  {
   "cell_type": "code",
   "execution_count": null,
   "id": "9aa1ce5f-996c-4521-a12b-1e808b7c8169",
   "metadata": {},
   "outputs": [],
   "source": [
    "class FirstLayer(nn.Module):\n",
    "    def __init__(self, output_size, activation='relu', init_method='he'):\n",
    "        super(FirstLayer, self).__init__()\n",
    "        self.fc = nn.Linear(12, output_size)\n",
    "        if activation == 'relu':\n",
    "            self.activation = nn.ReLU()\n",
    "        elif activation == 'sigmoid':\n",
    "            self.activation = nn.Sigmoid()\n",
    "        elif activation == 'tanh':\n",
    "            self.activation = nn.Tanh()\n",
    "        else:\n",
    "            raise ValueError(f\"Unsupported activation function: {activation}\")\n",
    "\n",
    "        if init_method == 'he':\n",
    "            init.kaiming_normal_(self.fc.weight, nonlinearity='relu')\n",
    "        elif init_method == 'xavier':\n",
    "            init.xavier_normal_(self.fc.weight)\n",
    "        else:\n",
    "            raise ValueError(f\"Unsupported initialization method: {init_method}\")\n",
    "\n",
    "    def forward(self, x):\n",
    "        x = self.fc(x)\n",
    "        x = self.activation(x)\n",
    "        return x"
   ]
  },
  {
   "cell_type": "code",
   "execution_count": null,
   "id": "dd6accb9-17ee-4583-9e4f-043c141df502",
   "metadata": {},
   "outputs": [],
   "source": [
    "class OutputLayer(nn.Module):\n",
    "    def __init__(self, input_size):\n",
    "        super(OutputLayer, self).__init__()\n",
    "        self.fc = nn.Linear(input_size, 3)\n",
    "\n",
    "    def forward(self, x):\n",
    "        x = self.fc(x)\n",
    "        return x"
   ]
  },
  {
   "cell_type": "code",
   "execution_count": null,
   "id": "38cf85d4-f65d-439a-b205-7867c1cf7957",
   "metadata": {},
   "outputs": [],
   "source": [
    "class ReluLayer(nn.Module):\n",
    "    def __init__(self, input_size, output_size):\n",
    "        super(ReluLayer, self).__init__()\n",
    "        self.fc = nn.Linear(input_size, output_size)\n",
    "        self.activation = nn.ReLU()\n",
    "        init.kaiming_normal_(self.fc.weight, nonlinearity='relu')\n",
    "\n",
    "    def forward(self, x):\n",
    "        x = self.fc(x)\n",
    "        x = self.activation(x)\n",
    "        return x"
   ]
  },
  {
   "cell_type": "code",
   "execution_count": null,
   "id": "5f0ddf02-7182-4031-bbd7-7d35e4996ff4",
   "metadata": {},
   "outputs": [],
   "source": [
    "class LeakyReluLayer(nn.Module):\n",
    "    def __init__(self, input_size, output_size, neg_slope=0.01):\n",
    "        super(LeakyReluLayer, self).__init__()\n",
    "        self.fc = nn.Linear(input_size, output_size)\n",
    "        self.activation = nn.LeakyReLU(negative_slope=neg_slope)\n",
    "        init.kaiming_normal_(self.fc.weight, nonlinearity='leaky_relu')\n",
    "\n",
    "    def forward(self, x):\n",
    "        x = self.fc(x)\n",
    "        x = self.activation(x)\n",
    "        return x"
   ]
  },
  {
   "cell_type": "code",
   "execution_count": null,
   "id": "7ac24b74-d9ce-45c2-9e3b-e6dab4f63691",
   "metadata": {},
   "outputs": [],
   "source": [
    "class PReLULayer(nn.Module):\n",
    "    def __init__(self, input_size, output_size):\n",
    "        super(PReLULayer, self).__init__()\n",
    "        self.fc = nn.Linear(input_size, output_size)\n",
    "        self.activation = nn.PReLU()\n",
    "        init.kaiming_normal_(self.fc.weight, nonlinearity='leaky_relu')\n",
    "\n",
    "    def forward(self, x):\n",
    "        x = self.fc(x)\n",
    "        x = self.activation(x)\n",
    "        return x"
   ]
  },
  {
   "cell_type": "code",
   "execution_count": 58,
   "id": "fd42d304-60e7-40a6-9eb4-32378087649e",
   "metadata": {},
   "outputs": [],
   "source": [
    "class SigmoidLayer(nn.Module):\n",
    "    def __init__(self, input_size, output_size):\n",
    "        super(SigmoidLayer, self).__init__()\n",
    "        self.fc = nn.Linear(input_size, output_size)\n",
    "        self.activation = nn.Sigmoid()\n",
    "        init.xavier_normal_(self.fc.weight)\n",
    "\n",
    "    def forward(self, x):\n",
    "        x = self.fc(x)\n",
    "        x = self.activation(x)\n",
    "        return x"
   ]
  },
  {
   "cell_type": "code",
   "execution_count": null,
   "id": "05d7e0bb-c503-4889-954f-75b90f23b4e5",
   "metadata": {},
   "outputs": [],
   "source": [
    "class SwishLayer(nn.Module):\n",
    "    def __init__(self, input_size, output_size):\n",
    "        super(SwishLayer, self).__init__()\n",
    "        self.fc = nn.Linear(input_size, output_size)\n",
    "\n",
    "    def forward(self, x):\n",
    "        x = self.fc(x)\n",
    "        return x * torch.sigmoid(x)"
   ]
  },
  {
   "cell_type": "code",
   "execution_count": 54,
   "id": "cecdf33c-fc0e-457a-a8ff-4e39934fadda",
   "metadata": {},
   "outputs": [],
   "source": [
    "class NeuralNetwork(nn.Module):\n",
    "    def __init__(self):\n",
    "        super(NeuralNetwork, self).__init__()\n",
    "        self.l1 = FirstLayer(output_size=64, activation='relu', init_method='he')\n",
    "        self.l2 = ReluLayer(input_size=64, output_size=32)\n",
    "        self.l3 = OutputLayer(input_size=32)\n",
    "\n",
    "    def forward(self, x):\n",
    "        x = self.l1(x)\n",
    "        x = self.l2(x)\n",
    "        x = self.l3(x)\n",
    "        return x"
   ]
  },
  {
   "cell_type": "markdown",
   "id": "7a532278-672d-4e4d-a23c-9d86161d8797",
   "metadata": {},
   "source": [
    "***\n",
    "## Training Definitions\n",
    "***"
   ]
  },
  {
   "cell_type": "code",
   "execution_count": 25,
   "id": "678b0392-e031-413b-acdf-44b11d9e27e3",
   "metadata": {},
   "outputs": [],
   "source": [
    "# Batching Function\n",
    "def batch(X_ten, Y_ten, batch_size):\n",
    "    num = X_ten.size(0)\n",
    "    for n in range(0, num, batch_size):\n",
    "        m = min(n + batch_size, num)\n",
    "        yield X_ten[n:m], Y_ten[n:m]"
   ]
  },
  {
   "cell_type": "code",
   "execution_count": 26,
   "id": "538763d8-0291-4463-bc2a-0e8fa4842435",
   "metadata": {},
   "outputs": [],
   "source": [
    "# Training\n",
    "def training(model, num_epochs, batch_size, X, y, learning_algo, obj_function):\n",
    "    model.train()\n",
    "    for epoch in range(num_epochs):\n",
    "        for bX, bY in batch(X,y,batch_size):\n",
    "            learning_algo.zero_grad()\n",
    "            output = model(bX)\n",
    "            loss = obj_function(output, bY)\n",
    "            loss.backward()\n",
    "            learning_algo.step()"
   ]
  },
  {
   "cell_type": "markdown",
   "id": "70e3ba3a-c8c2-45e0-91da-2d9d1f854697",
   "metadata": {},
   "source": [
    "***\n",
    "## Evaluation/Testing Definition\n",
    "***"
   ]
  },
  {
   "cell_type": "code",
   "execution_count": 61,
   "id": "6d4741e8-e05d-4956-a595-4684667da356",
   "metadata": {},
   "outputs": [],
   "source": [
    "def evaluate(model, X, y, obj_function):\n",
    "    model.eval()\n",
    "    with torch.no_grad():\n",
    "        logits = model(X)\n",
    "        predicted_classes = torch.argmax(logits, dim=1)\n",
    "        actual_classes = y\n",
    "        num_classes = 3\n",
    "        TP = [0] * num_classes\n",
    "        TN = [0] * num_classes\n",
    "        FP = [0] * num_classes\n",
    "        FN = [0] * num_classes\n",
    "    \n",
    "        for i in range(num_classes):\n",
    "            for j in range(len(actual_classes)):\n",
    "                if predicted_classes[j] == i and actual_classes[j] == i:\n",
    "                    TP[i] += 1\n",
    "                elif predicted_classes[j] == i and actual_classes[j] != i:\n",
    "                    FP[i] += 1\n",
    "                elif predicted_classes[j] != i and actual_classes[j] == i:\n",
    "                    FN[i] += 1\n",
    "                else:\n",
    "                    TN[i] += 1\n",
    "        label_names = ['MAMRA','REGULAR','SANORA']\n",
    "        for i in range(num_classes):\n",
    "            print(f'Class {label_names[i]}:')\n",
    "            print(f'TP: {TP[i]}, TN: {TN[i]}, FP: {FP[i]}, FN: {FN[i]}')\n",
    "            accuracy = (TP[i] + TN[i]) / (TP[i] + TN[i] + FP[i] + FN[i]) * 100\n",
    "            print(f'Accuracy for Class {label_names[i]}: {accuracy:.2f}%')\n",
    "    \n",
    "        correct_predictions = (predicted_classes == actual_classes).sum().item()\n",
    "        total_samples = actual_classes.size(0)\n",
    "        overall_accuracy = correct_predictions / total_samples * 100\n",
    "        print(f'Overall Accuracy: {overall_accuracy:.2f}%')\n",
    "        return accuracy"
   ]
  },
  {
   "cell_type": "markdown",
   "id": "ec80f713-44c1-4eaf-8b19-e88b7b986b2c",
   "metadata": {},
   "source": [
    "***\n",
    "## Hyperparameters\n",
    "***"
   ]
  },
  {
   "cell_type": "code",
   "execution_count": 28,
   "id": "e4d2a1d6-a444-4859-8d22-f31e8050b24c",
   "metadata": {},
   "outputs": [],
   "source": [
    "# Hyperparameters\n",
    "learning_rate  =0.005\n",
    "num_epochs = 300\n",
    "batch_size = 34\n",
    "\n",
    "learning_opt = 0\n",
    "# 0 - Admin\n",
    "# 1 - Rprop\n",
    "# 2 - SGD\n",
    "\n",
    "objective_opt = 0\n",
    "# 0 - CrossEntropyLoss\n",
    "# 1 - BCEWithLogitsLoss\n",
    "\n",
    "random_seed = 42"
   ]
  },
  {
   "cell_type": "markdown",
   "id": "18f7685c-d3c7-483b-8bd1-16af92058080",
   "metadata": {},
   "source": [
    "***\n",
    "## Helpers\n",
    "***"
   ]
  },
  {
   "cell_type": "code",
   "execution_count": 29,
   "id": "fd6ac314-84cd-4d87-9101-7a286d229b74",
   "metadata": {},
   "outputs": [],
   "source": [
    "def learningAlgo(opt):\n",
    "    if opt == 0:\n",
    "        return optim.Adam\n",
    "    elif opt == 1:\n",
    "        return optim.Rprop\n",
    "    else:\n",
    "        return optim.SGD"
   ]
  },
  {
   "cell_type": "code",
   "execution_count": 35,
   "id": "0df3f128-3fd4-4296-be32-4a0048dafeec",
   "metadata": {},
   "outputs": [],
   "source": [
    "def objectiveFunc(opt):\n",
    "    if opt == 0:\n",
    "        return nn.CrossEntropyLoss()\n",
    "    elif opt == 1:\n",
    "        return nn.BCEWithLogitsLoss()"
   ]
  },
  {
   "cell_type": "code",
   "execution_count": 31,
   "id": "988f4d18-44b7-48b0-bd3f-9961a6fddc78",
   "metadata": {},
   "outputs": [],
   "source": [
    "def calculate_conf_matrix(predicted, y):\n",
    "    conf_matrix = torch.zeros(3, 3, dtype=torch.int64)\n",
    "    \n",
    "    for t, p in zip(y.view(-1), predicted.view(-1)):\n",
    "        conf_matrix[t.long(), p.long()] += 1\n",
    "    \n",
    "    return conf_matrix"
   ]
  },
  {
   "cell_type": "code",
   "execution_count": 32,
   "id": "a185e2a5-d25f-465f-99af-0e2be6842bd5",
   "metadata": {},
   "outputs": [],
   "source": [
    "def set_random_seed(seed):\n",
    "    torch.manual_seed(seed)\n",
    "    np.random.seed(seed)\n",
    "\n",
    "    if torch.cuda.is_available():\n",
    "        torch.cuda.manual_seed(seed)\n",
    "        torch.cuda.manual_seed_all(seed)\n",
    "        \n",
    "    torch.backends.cudnn.deterministic = True\n",
    "    torch.backends.cudnn.benchmark = False"
   ]
  },
  {
   "cell_type": "markdown",
   "id": "abbc1343-4963-4482-8994-8155d2b5eed3",
   "metadata": {},
   "source": [
    "***\n",
    "## K-Fold Cross Validation\n",
    "***"
   ]
  },
  {
   "cell_type": "code",
   "execution_count": 49,
   "id": "0b7198f1-4f2b-49b6-b3e0-8ad9da7d23f2",
   "metadata": {},
   "outputs": [],
   "source": [
    "from sklearn.model_selection import KFold\n",
    "from sklearn.model_selection import StratifiedKFold"
   ]
  },
  {
   "cell_type": "code",
   "execution_count": 51,
   "id": "3bd22d6d-becb-4d56-ab91-ed08bfa9c1dd",
   "metadata": {},
   "outputs": [],
   "source": [
    "k = 5\n",
    "\n",
    "skf = StratifiedKFold(n_splits=k, shuffle=True, random_state=42)\n",
    "fold_metrics = []"
   ]
  },
  {
   "cell_type": "code",
   "execution_count": 65,
   "id": "de8e9f2c-5af1-4b5d-8c76-2495bac7f244",
   "metadata": {},
   "outputs": [
    {
     "name": "stdout",
     "output_type": "stream",
     "text": [
      "Fold 1/5\n",
      "Validation Loss: 1.0447, Accuracy: 77.02%\n",
      "Fold 2/5\n",
      "Validation Loss: 1.1465, Accuracy: 79.68%\n",
      "Fold 3/5\n",
      "Validation Loss: 0.9601, Accuracy: 82.55%\n",
      "Fold 4/5\n",
      "Validation Loss: 0.9571, Accuracy: 76.98%\n",
      "Fold 5/5\n",
      "Validation Loss: 0.9217, Accuracy: 80.04%\n",
      "K-Fold Cross-Validation Accuracy: 76.58% ± 2.98%\n"
     ]
    }
   ],
   "source": [
    "for fold, (train_index, val_index) in enumerate(skf.split(X_tensor, y_tensor)):\n",
    "    print(f'Fold {fold + 1}/{k}')\n",
    "    \n",
    "    X_train, X_val = X_tensor[train_index], X_tensor[val_index]\n",
    "    y_train, y_val = y_tensor[train_index], y_tensor[val_index]\n",
    "\n",
    "    mean = X_train.mean(dim=0)\n",
    "    std = X_train.std(dim=0)\n",
    "    \n",
    "    X_train_norm = (X_train - mean)/std\n",
    "    X_val_norm = (X_val - mean)/std\n",
    "    \n",
    "    model = NeuralNetwork()\n",
    "    optimizer = learningAlgo(learning_opt)(model.parameters(),lr=learning_rate)\n",
    "    criterion = objectiveFunc(objective_opt)\n",
    "\n",
    "    training(model, num_epochs, batch_size, X_train_norm, y_train, optimizer, criterion)\n",
    "    # Training\n",
    "    # for epoch in range(num_epochs):\n",
    "    #     model.train()\n",
    "    #     for bX, bY in batch(X_train_norm,y_train,batch_size):\n",
    "    #         optimizer.zero_grad()\n",
    "    #         outputs = model(bX)\n",
    "    #         loss = criterion(outputs, bY)\n",
    "            \n",
    "    #         loss.backward()\n",
    "    #         optimizer.step()\n",
    "    \n",
    "    # Validation\n",
    "    model.eval()\n",
    "    with torch.no_grad():\n",
    "        val_outputs = model(X_val_norm)\n",
    "        val_loss = criterion(val_outputs, y_val)\n",
    "        _, predicted = torch.max(val_outputs.data, 1)\n",
    "        accuracy = (predicted == y_val).sum().item() / y_val.size(0) * 100\n",
    "        \n",
    "        fold_metrics.append(accuracy)\n",
    "        print(f'Validation Loss: {val_loss.item():.4f}, Accuracy: {accuracy:.2f}%')\n",
    "\n",
    "# Overall Performance\n",
    "print(f'K-Fold Cross-Validation Accuracy: {np.mean(fold_metrics):.2f}% ± {np.std(fold_metrics):.2f}%')"
   ]
  },
  {
   "cell_type": "markdown",
   "id": "8df1d985-2b1b-43ae-8812-8458772de0e3",
   "metadata": {},
   "source": [
    "***\n",
    "## Main\n",
    "***"
   ]
  },
  {
   "cell_type": "code",
   "execution_count": 33,
   "id": "50cebc73-b063-47a0-ab03-868b3d05c826",
   "metadata": {},
   "outputs": [],
   "source": [
    "def run(num_epochs, batch_size, learning_rate, learning_opt, objective_opt, random_seed, X, Y):\n",
    "    set_random_seed(random_seed)\n",
    "    model = NeuralNetwork()\n",
    "    learn_algo = learningAlgo(learning_opt)(model.parameters(),learning_rate)\n",
    "    obj_func = objectiveFunc(objective_opt)\n",
    "    training(model, num_epochs, batch_size, X, Y, learn_algo, obj_func)\n",
    "    return evaluate(model, X_test_norm, y_test, obj_func)"
   ]
  },
  {
   "cell_type": "code",
   "execution_count": 62,
   "id": "a5227db2-34fd-45fe-a41d-1e4151dd8c79",
   "metadata": {},
   "outputs": [
    {
     "name": "stdout",
     "output_type": "stream",
     "text": [
      "Class MAMRA:\n",
      "TP: 130, TN: 275, FP: 4, FN: 9\n",
      "Accuracy for Class MAMRA: 96.89%\n",
      "Class REGULAR:\n",
      "TP: 112, TN: 271, FP: 7, FN: 28\n",
      "Accuracy for Class REGULAR: 91.63%\n",
      "Class SANORA:\n",
      "TP: 134, TN: 248, FP: 31, FN: 5\n",
      "Accuracy for Class SANORA: 91.39%\n",
      "Overall Accuracy: 89.95%\n"
     ]
    },
    {
     "data": {
      "text/plain": [
       "91.38755980861244"
      ]
     },
     "execution_count": 62,
     "metadata": {},
     "output_type": "execute_result"
    }
   ],
   "source": [
    "run(300,34,0.005,0,0,42,X_train_norm,y_train)"
   ]
  },
  {
   "cell_type": "markdown",
   "id": "52af16b5-15a0-4b80-afdd-2b25d334eb6a",
   "metadata": {},
   "source": [
    "***\n",
    "## Grid Search\n",
    "***"
   ]
  },
  {
   "cell_type": "code",
   "execution_count": 40,
   "id": "6f50e5f1-aab0-4328-b119-3669dfd74424",
   "metadata": {},
   "outputs": [
    {
     "name": "stdout",
     "output_type": "stream",
     "text": [
      "Class MAMRA:\n",
      "TP: 140, TN: 0, FP: 281, FN: 0\n",
      "Accuracy for Class MAMRA: 33.25%\n",
      "Class REGULAR:\n",
      "TP: 0, TN: 282, FP: 0, FN: 139\n",
      "Accuracy for Class REGULAR: 66.98%\n",
      "Class SANORA:\n",
      "TP: 0, TN: 279, FP: 0, FN: 142\n",
      "Accuracy for Class SANORA: 66.27%\n",
      "Overall Accuracy: 33.25%\n",
      "Class MAMRA:\n",
      "TP: 140, TN: 0, FP: 281, FN: 0\n",
      "Accuracy for Class MAMRA: 33.25%\n",
      "Class REGULAR:\n",
      "TP: 0, TN: 282, FP: 0, FN: 139\n",
      "Accuracy for Class REGULAR: 66.98%\n",
      "Class SANORA:\n",
      "TP: 0, TN: 279, FP: 0, FN: 142\n",
      "Accuracy for Class SANORA: 66.27%\n",
      "Overall Accuracy: 33.25%\n",
      "Class MAMRA:\n",
      "TP: 140, TN: 0, FP: 281, FN: 0\n",
      "Accuracy for Class MAMRA: 33.25%\n",
      "Class REGULAR:\n",
      "TP: 0, TN: 282, FP: 0, FN: 139\n",
      "Accuracy for Class REGULAR: 66.98%\n",
      "Class SANORA:\n",
      "TP: 0, TN: 279, FP: 0, FN: 142\n",
      "Accuracy for Class SANORA: 66.27%\n",
      "Overall Accuracy: 33.25%\n",
      "Class MAMRA:\n",
      "TP: 140, TN: 0, FP: 281, FN: 0\n",
      "Accuracy for Class MAMRA: 33.25%\n",
      "Class REGULAR:\n",
      "TP: 0, TN: 282, FP: 0, FN: 139\n",
      "Accuracy for Class REGULAR: 66.98%\n",
      "Class SANORA:\n",
      "TP: 0, TN: 279, FP: 0, FN: 142\n",
      "Accuracy for Class SANORA: 66.27%\n",
      "Overall Accuracy: 33.25%\n"
     ]
    },
    {
     "ename": "KeyboardInterrupt",
     "evalue": "",
     "output_type": "error",
     "traceback": [
      "\u001b[0;31m---------------------------------------------------------------------------\u001b[0m",
      "\u001b[0;31mKeyboardInterrupt\u001b[0m                         Traceback (most recent call last)",
      "Cell \u001b[0;32mIn[40], line 10\u001b[0m\n\u001b[1;32m      7\u001b[0m \u001b[38;5;28;01mfor\u001b[39;00m learning_rate \u001b[38;5;129;01min\u001b[39;00m parameter_grid[\u001b[38;5;124m'\u001b[39m\u001b[38;5;124mlearning_rate\u001b[39m\u001b[38;5;124m'\u001b[39m]:\n\u001b[1;32m      8\u001b[0m     \u001b[38;5;28;01mfor\u001b[39;00m num_epochs \u001b[38;5;129;01min\u001b[39;00m parameter_grid[\u001b[38;5;124m'\u001b[39m\u001b[38;5;124mnum_epochs\u001b[39m\u001b[38;5;124m'\u001b[39m]:\n\u001b[1;32m      9\u001b[0m         \u001b[38;5;66;03m# Run the experiment\u001b[39;00m\n\u001b[0;32m---> 10\u001b[0m         result \u001b[38;5;241m=\u001b[39m \u001b[43mrun\u001b[49m\u001b[43m(\u001b[49m\u001b[43mnum_epochs\u001b[49m\u001b[43m,\u001b[49m\u001b[43m \u001b[49m\u001b[43mbatch_size\u001b[49m\u001b[43m,\u001b[49m\u001b[43m \u001b[49m\u001b[43mlearning_rate\u001b[49m\u001b[43m,\u001b[49m\u001b[43m \u001b[49m\u001b[43mlearning_opt\u001b[49m\u001b[43m,\u001b[49m\u001b[43m \u001b[49m\u001b[43mobjective_opt\u001b[49m\u001b[43m,\u001b[49m\u001b[43m \u001b[49m\u001b[43mrandom_seed\u001b[49m\u001b[43m,\u001b[49m\u001b[43m \u001b[49m\u001b[43mX_train_norm\u001b[49m\u001b[43m,\u001b[49m\u001b[43m \u001b[49m\u001b[43my_train\u001b[49m\u001b[43m)\u001b[49m\n\u001b[1;32m     12\u001b[0m         \u001b[38;5;66;03m# Store the results in a dictionary\u001b[39;00m\n\u001b[1;32m     13\u001b[0m         results\u001b[38;5;241m.\u001b[39mappend({\n\u001b[1;32m     14\u001b[0m             \u001b[38;5;124m'\u001b[39m\u001b[38;5;124mlearning_rate\u001b[39m\u001b[38;5;124m'\u001b[39m: learning_rate,\n\u001b[1;32m     15\u001b[0m             \u001b[38;5;124m'\u001b[39m\u001b[38;5;124mnum_epochs\u001b[39m\u001b[38;5;124m'\u001b[39m: num_epochs,\n\u001b[1;32m     16\u001b[0m             \u001b[38;5;124m'\u001b[39m\u001b[38;5;124mresult\u001b[39m\u001b[38;5;124m'\u001b[39m: result  \u001b[38;5;66;03m# Replace with actual metric (e.g., accuracy)\u001b[39;00m\n\u001b[1;32m     17\u001b[0m         })\n",
      "Cell \u001b[0;32mIn[32], line 6\u001b[0m, in \u001b[0;36mrun\u001b[0;34m(num_epochs, batch_size, learning_rate, learning_opt, objective_opt, random_seed, X, Y)\u001b[0m\n\u001b[1;32m      4\u001b[0m learn_algo \u001b[38;5;241m=\u001b[39m learningAlgo(learning_opt)(model\u001b[38;5;241m.\u001b[39mparameters(),learning_rate)\n\u001b[1;32m      5\u001b[0m obj_func \u001b[38;5;241m=\u001b[39m objectiveFunc(objective_opt)\n\u001b[0;32m----> 6\u001b[0m \u001b[43mtraining\u001b[49m\u001b[43m(\u001b[49m\u001b[43mmodel\u001b[49m\u001b[43m,\u001b[49m\u001b[43m \u001b[49m\u001b[43mnum_epochs\u001b[49m\u001b[43m,\u001b[49m\u001b[43m \u001b[49m\u001b[43mbatch_size\u001b[49m\u001b[43m,\u001b[49m\u001b[43m \u001b[49m\u001b[43mX\u001b[49m\u001b[43m,\u001b[49m\u001b[43m \u001b[49m\u001b[43mY\u001b[49m\u001b[43m,\u001b[49m\u001b[43m \u001b[49m\u001b[43mlearn_algo\u001b[49m\u001b[43m,\u001b[49m\u001b[43m \u001b[49m\u001b[43mobj_func\u001b[49m\u001b[43m)\u001b[49m\n\u001b[1;32m      7\u001b[0m \u001b[38;5;28;01mreturn\u001b[39;00m evaluate(model, X_test_norm, y_test, obj_func)\n",
      "Cell \u001b[0;32mIn[25], line 8\u001b[0m, in \u001b[0;36mtraining\u001b[0;34m(model, num_epochs, batch_size, X, y, learning_algo, obj_function)\u001b[0m\n\u001b[1;32m      6\u001b[0m learning_algo\u001b[38;5;241m.\u001b[39mzero_grad()\n\u001b[1;32m      7\u001b[0m output \u001b[38;5;241m=\u001b[39m model(bX)\n\u001b[0;32m----> 8\u001b[0m loss \u001b[38;5;241m=\u001b[39m \u001b[43mobj_function\u001b[49m\u001b[43m(\u001b[49m\u001b[43moutput\u001b[49m\u001b[43m,\u001b[49m\u001b[43m \u001b[49m\u001b[43mbY\u001b[49m\u001b[43m)\u001b[49m\n\u001b[1;32m      9\u001b[0m loss\u001b[38;5;241m.\u001b[39mbackward()\n\u001b[1;32m     10\u001b[0m learning_algo\u001b[38;5;241m.\u001b[39mstep()\n",
      "File \u001b[0;32m/opt/conda/lib/python3.11/site-packages/torch/nn/modules/module.py:1553\u001b[0m, in \u001b[0;36mModule._wrapped_call_impl\u001b[0;34m(self, *args, **kwargs)\u001b[0m\n\u001b[1;32m   1551\u001b[0m     \u001b[38;5;28;01mreturn\u001b[39;00m \u001b[38;5;28mself\u001b[39m\u001b[38;5;241m.\u001b[39m_compiled_call_impl(\u001b[38;5;241m*\u001b[39margs, \u001b[38;5;241m*\u001b[39m\u001b[38;5;241m*\u001b[39mkwargs)  \u001b[38;5;66;03m# type: ignore[misc]\u001b[39;00m\n\u001b[1;32m   1552\u001b[0m \u001b[38;5;28;01melse\u001b[39;00m:\n\u001b[0;32m-> 1553\u001b[0m     \u001b[38;5;28;01mreturn\u001b[39;00m \u001b[38;5;28;43mself\u001b[39;49m\u001b[38;5;241;43m.\u001b[39;49m\u001b[43m_call_impl\u001b[49m\u001b[43m(\u001b[49m\u001b[38;5;241;43m*\u001b[39;49m\u001b[43margs\u001b[49m\u001b[43m,\u001b[49m\u001b[43m \u001b[49m\u001b[38;5;241;43m*\u001b[39;49m\u001b[38;5;241;43m*\u001b[39;49m\u001b[43mkwargs\u001b[49m\u001b[43m)\u001b[49m\n",
      "File \u001b[0;32m/opt/conda/lib/python3.11/site-packages/torch/nn/modules/module.py:1562\u001b[0m, in \u001b[0;36mModule._call_impl\u001b[0;34m(self, *args, **kwargs)\u001b[0m\n\u001b[1;32m   1557\u001b[0m \u001b[38;5;66;03m# If we don't have any hooks, we want to skip the rest of the logic in\u001b[39;00m\n\u001b[1;32m   1558\u001b[0m \u001b[38;5;66;03m# this function, and just call forward.\u001b[39;00m\n\u001b[1;32m   1559\u001b[0m \u001b[38;5;28;01mif\u001b[39;00m \u001b[38;5;129;01mnot\u001b[39;00m (\u001b[38;5;28mself\u001b[39m\u001b[38;5;241m.\u001b[39m_backward_hooks \u001b[38;5;129;01mor\u001b[39;00m \u001b[38;5;28mself\u001b[39m\u001b[38;5;241m.\u001b[39m_backward_pre_hooks \u001b[38;5;129;01mor\u001b[39;00m \u001b[38;5;28mself\u001b[39m\u001b[38;5;241m.\u001b[39m_forward_hooks \u001b[38;5;129;01mor\u001b[39;00m \u001b[38;5;28mself\u001b[39m\u001b[38;5;241m.\u001b[39m_forward_pre_hooks\n\u001b[1;32m   1560\u001b[0m         \u001b[38;5;129;01mor\u001b[39;00m _global_backward_pre_hooks \u001b[38;5;129;01mor\u001b[39;00m _global_backward_hooks\n\u001b[1;32m   1561\u001b[0m         \u001b[38;5;129;01mor\u001b[39;00m _global_forward_hooks \u001b[38;5;129;01mor\u001b[39;00m _global_forward_pre_hooks):\n\u001b[0;32m-> 1562\u001b[0m     \u001b[38;5;28;01mreturn\u001b[39;00m \u001b[43mforward_call\u001b[49m\u001b[43m(\u001b[49m\u001b[38;5;241;43m*\u001b[39;49m\u001b[43margs\u001b[49m\u001b[43m,\u001b[49m\u001b[43m \u001b[49m\u001b[38;5;241;43m*\u001b[39;49m\u001b[38;5;241;43m*\u001b[39;49m\u001b[43mkwargs\u001b[49m\u001b[43m)\u001b[49m\n\u001b[1;32m   1564\u001b[0m \u001b[38;5;28;01mtry\u001b[39;00m:\n\u001b[1;32m   1565\u001b[0m     result \u001b[38;5;241m=\u001b[39m \u001b[38;5;28;01mNone\u001b[39;00m\n",
      "File \u001b[0;32m/opt/conda/lib/python3.11/site-packages/torch/nn/modules/loss.py:734\u001b[0m, in \u001b[0;36mBCEWithLogitsLoss.forward\u001b[0;34m(self, input, target)\u001b[0m\n\u001b[1;32m    733\u001b[0m \u001b[38;5;28;01mdef\u001b[39;00m \u001b[38;5;21mforward\u001b[39m(\u001b[38;5;28mself\u001b[39m, \u001b[38;5;28minput\u001b[39m: Tensor, target: Tensor) \u001b[38;5;241m-\u001b[39m\u001b[38;5;241m>\u001b[39m Tensor:\n\u001b[0;32m--> 734\u001b[0m     \u001b[38;5;28;01mreturn\u001b[39;00m \u001b[43mF\u001b[49m\u001b[38;5;241;43m.\u001b[39;49m\u001b[43mbinary_cross_entropy_with_logits\u001b[49m\u001b[43m(\u001b[49m\u001b[38;5;28;43minput\u001b[39;49m\u001b[43m,\u001b[49m\u001b[43m \u001b[49m\u001b[43mtarget\u001b[49m\u001b[43m,\u001b[49m\n\u001b[1;32m    735\u001b[0m \u001b[43m                                              \u001b[49m\u001b[38;5;28;43mself\u001b[39;49m\u001b[38;5;241;43m.\u001b[39;49m\u001b[43mweight\u001b[49m\u001b[43m,\u001b[49m\n\u001b[1;32m    736\u001b[0m \u001b[43m                                              \u001b[49m\u001b[43mpos_weight\u001b[49m\u001b[38;5;241;43m=\u001b[39;49m\u001b[38;5;28;43mself\u001b[39;49m\u001b[38;5;241;43m.\u001b[39;49m\u001b[43mpos_weight\u001b[49m\u001b[43m,\u001b[49m\n\u001b[1;32m    737\u001b[0m \u001b[43m                                              \u001b[49m\u001b[43mreduction\u001b[49m\u001b[38;5;241;43m=\u001b[39;49m\u001b[38;5;28;43mself\u001b[39;49m\u001b[38;5;241;43m.\u001b[39;49m\u001b[43mreduction\u001b[49m\u001b[43m)\u001b[49m\n",
      "File \u001b[0;32m/opt/conda/lib/python3.11/site-packages/torch/nn/functional.py:3244\u001b[0m, in \u001b[0;36mbinary_cross_entropy_with_logits\u001b[0;34m(input, target, weight, size_average, reduce, reduction, pos_weight)\u001b[0m\n\u001b[1;32m   3241\u001b[0m \u001b[38;5;28;01mif\u001b[39;00m \u001b[38;5;129;01mnot\u001b[39;00m (target\u001b[38;5;241m.\u001b[39msize() \u001b[38;5;241m==\u001b[39m \u001b[38;5;28minput\u001b[39m\u001b[38;5;241m.\u001b[39msize()):\n\u001b[1;32m   3242\u001b[0m     \u001b[38;5;28;01mraise\u001b[39;00m \u001b[38;5;167;01mValueError\u001b[39;00m(\u001b[38;5;124mf\u001b[39m\u001b[38;5;124m\"\u001b[39m\u001b[38;5;124mTarget size (\u001b[39m\u001b[38;5;132;01m{\u001b[39;00mtarget\u001b[38;5;241m.\u001b[39msize()\u001b[38;5;132;01m}\u001b[39;00m\u001b[38;5;124m) must be the same as input size (\u001b[39m\u001b[38;5;132;01m{\u001b[39;00m\u001b[38;5;28minput\u001b[39m\u001b[38;5;241m.\u001b[39msize()\u001b[38;5;132;01m}\u001b[39;00m\u001b[38;5;124m)\u001b[39m\u001b[38;5;124m\"\u001b[39m)\n\u001b[0;32m-> 3244\u001b[0m \u001b[38;5;28;01mreturn\u001b[39;00m \u001b[43mtorch\u001b[49m\u001b[38;5;241;43m.\u001b[39;49m\u001b[43mbinary_cross_entropy_with_logits\u001b[49m\u001b[43m(\u001b[49m\u001b[38;5;28;43minput\u001b[39;49m\u001b[43m,\u001b[49m\u001b[43m \u001b[49m\u001b[43mtarget\u001b[49m\u001b[43m,\u001b[49m\u001b[43m \u001b[49m\u001b[43mweight\u001b[49m\u001b[43m,\u001b[49m\u001b[43m \u001b[49m\u001b[43mpos_weight\u001b[49m\u001b[43m,\u001b[49m\u001b[43m \u001b[49m\u001b[43mreduction_enum\u001b[49m\u001b[43m)\u001b[49m\n",
      "\u001b[0;31mKeyboardInterrupt\u001b[0m: "
     ]
    }
   ],
   "source": [
    "parameter_grid = {\n",
    "    'learning_rate': [0.00001, 0.0001, 0.001, 0.005, 0.01, 0.1, 0.5],\n",
    "    'num_epochs': [10, 20, 30, 60, 125, 250, 500, 1000]\n",
    "}\n",
    "results = []\n",
    "\n",
    "for learning_rate in parameter_grid['learning_rate']:\n",
    "    for num_epochs in parameter_grid['num_epochs']:\n",
    "        # Run the experiment\n",
    "        result = run(num_epochs, batch_size, learning_rate, learning_opt, objective_opt, random_seed, X_train_norm, y_train)\n",
    "        \n",
    "        # Store the results in a dictionary\n",
    "        results.append({\n",
    "            'learning_rate': learning_rate,\n",
    "            'num_epochs': num_epochs,\n",
    "            'result': result  # Replace with actual metric (e.g., accuracy)\n",
    "        })\n",
    "\n",
    "print(results)"
   ]
  },
  {
   "cell_type": "code",
   "execution_count": 28,
   "id": "6407ba6c-4315-498f-bc7f-74041197a45b",
   "metadata": {},
   "outputs": [
    {
     "data": {
      "image/png": "[encoded data removed]",
      "text/plain": [
       "<Figure size 1000x600 with 2 Axes>"
      ]
     },
     "metadata": {},
     "output_type": "display_data"
    }
   ],
   "source": [
    "# Create a DataFrame from your results\n",
    "results_df = pd.DataFrame(results)\n",
    "\n",
    "# Pivot the DataFrame to create a matrix for the heatmap\n",
    "heatmap_data = results_df.pivot(index='num_epochs', columns='learning_rate', values='result')\n",
    "\n",
    "# Create the heatmap\n",
    "plt.figure(figsize=(10, 6))\n",
    "sns.heatmap(heatmap_data, annot=True, cmap='viridis', cbar_kws={'label': 'Performance Metric'})\n",
    "plt.title('Grid Search Results Heatmap')\n",
    "plt.xlabel('Learning Rate')\n",
    "plt.ylabel('Number of Epochs')\n",
    "plt.show()"
   ]
  },
  {
   "cell_type": "markdown",
   "id": "c026c8b5-53bb-46df-bad5-ab22283155e7",
   "metadata": {},
   "source": [
    "***"
   ]
  }
 ],
 "metadata": {
  "kernelspec": {
   "display_name": "Python 3 (ipykernel)",
   "language": "python",
   "name": "python3"
  },
  "language_info": {
   "codemirror_mode": {
    "name": "ipython",
    "version": 3
   },
   "file_extension": ".py",
   "mimetype": "text/x-python",
   "name": "python",
   "nbconvert_exporter": "python",
   "pygments_lexer": "ipython3",
   "version": "3.11.6"
  }
 },
 "nbformat": 4,
 "nbformat_minor": 5
}
